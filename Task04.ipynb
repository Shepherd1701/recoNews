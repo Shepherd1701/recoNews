{
 "cells": [
  {
   "cell_type": "code",
   "execution_count": 2,
   "metadata": {
    "ExecuteTime": {
     "end_time": "2020-12-03T10:55:20.210380Z",
     "start_time": "2020-12-03T10:55:18.812589Z"
    }
   },
   "outputs": [],
   "source": [
    "import numpy as np\n",
    "import pandas as pd\n",
    "import pickle\n",
    "from tqdm import tqdm\n",
    "import gc, os\n",
    "import logging\n",
    "import time\n",
    "import lightgbm as lgb\n",
    "from gensim.models import Word2Vec\n",
    "from sklearn.preprocessing import MinMaxScaler\n",
    "import warnings\n",
    "warnings.filterwarnings('ignore')"
   ]
  },
  {
   "cell_type": "code",
   "execution_count": 3,
   "metadata": {
    "ExecuteTime": {
     "end_time": "2020-12-03T10:55:45.270740Z",
     "start_time": "2020-12-03T10:55:45.128764Z"
    }
   },
   "outputs": [],
   "source": [
    "# 节省内存的一个函数\n",
    "# 减少内存\n",
    "def reduce_mem(df):\n",
    "    starttime = time.time()\n",
    "    numerics = ['int16', 'int32', 'int64', 'float16', 'float32', 'float64']\n",
    "    start_mem = df.memory_usage().sum() / 1024**2\n",
    "    for col in df.columns:\n",
    "        col_type = df[col].dtypes\n",
    "        if col_type in numerics:\n",
    "            c_min = df[col].min()\n",
    "            c_max = df[col].max()\n",
    "            if pd.isnull(c_min) or pd.isnull(c_max):\n",
    "                continue\n",
    "            if str(col_type)[:3] == 'int':\n",
    "                if c_min > np.iinfo(np.int8).min and c_max < np.iinfo(np.int8).max:\n",
    "                    df[col] = df[col].astype(np.int8)\n",
    "                elif c_min > np.iinfo(np.int16).min and c_max < np.iinfo(np.int16).max:\n",
    "                    df[col] = df[col].astype(np.int16)\n",
    "                elif c_min > np.iinfo(np.int32).min and c_max < np.iinfo(np.int32).max:\n",
    "                    df[col] = df[col].astype(np.int32)\n",
    "                elif c_min > np.iinfo(np.int64).min and c_max < np.iinfo(np.int64).max:\n",
    "                    df[col] = df[col].astype(np.int64)\n",
    "            else:\n",
    "                if c_min > np.finfo(np.float16).min and c_max < np.finfo(np.float16).max:\n",
    "                    df[col] = df[col].astype(np.float16)\n",
    "                elif c_min > np.finfo(np.float32).min and c_max < np.finfo(np.float32).max:\n",
    "                    df[col] = df[col].astype(np.float32)\n",
    "                else:\n",
    "                    df[col] = df[col].astype(np.float64)\n",
    "    end_mem = df.memory_usage().sum() / 1024**2\n",
    "    print('-- Mem. usage decreased to {:5.2f} Mb ({:.1f}% reduction),time spend:{:2.2f} min'.format(end_mem,\n",
    "                                                                                                           100*(start_mem-end_mem)/start_mem,\n",
    "                                                                                                           (time.time()-starttime)/60))\n",
    "    return df"
   ]
  },
  {
   "cell_type": "code",
   "execution_count": 4,
   "metadata": {
    "ExecuteTime": {
     "end_time": "2020-12-03T10:55:55.307183Z",
     "start_time": "2020-12-03T10:55:55.297183Z"
    }
   },
   "outputs": [],
   "source": [
    "data_path = './data_raw/'\n",
    "save_path = './temp_results/'"
   ]
  },
  {
   "cell_type": "code",
   "execution_count": 5,
   "metadata": {
    "ExecuteTime": {
     "end_time": "2020-12-03T10:56:09.067075Z",
     "start_time": "2020-12-03T10:56:09.023334Z"
    }
   },
   "outputs": [],
   "source": [
    "# all_click_df指的是训练集\n",
    "# sample_user_nums 采样作为验证集的用户数量\n",
    "def trn_val_split(all_click_df, sample_user_nums):\n",
    "    all_click = all_click_df\n",
    "    all_user_ids = all_click.user_id.unique()\n",
    "    \n",
    "    # replace=True表示可以重复抽样，反之不可以\n",
    "    sample_user_ids = np.random.choice(all_user_ids, size=sample_user_nums, replace=False) \n",
    "    \n",
    "    click_val = all_click[all_click['user_id'].isin(sample_user_ids)]\n",
    "    click_trn = all_click[~all_click['user_id'].isin(sample_user_ids)]\n",
    "    \n",
    "    # 将验证集中的最后一次点击给抽取出来作为答案\n",
    "    click_val = click_val.sort_values(['user_id', 'click_timestamp'])\n",
    "    val_ans = click_val.groupby('user_id').tail(1)\n",
    "    \n",
    "    click_val = click_val.groupby('user_id').apply(lambda x: x[:-1]).reset_index(drop=True)\n",
    "    \n",
    "    # 去除val_ans中某些用户只有一个点击数据的情况，如果该用户只有一个点击数据，又被分到ans中，\n",
    "    # 那么训练集中就没有这个用户的点击数据，出现用户冷启动问题，给自己模型验证带来麻烦\n",
    "    val_ans = val_ans[val_ans.user_id.isin(click_val.user_id.unique())] # 保证答案中出现的用户再验证集中还有\n",
    "    click_val = click_val[click_val.user_id.isin(val_ans.user_id.unique())]\n",
    "    \n",
    "    return click_trn, click_val, val_ans"
   ]
  },
  {
   "cell_type": "code",
   "execution_count": 6,
   "metadata": {
    "ExecuteTime": {
     "end_time": "2020-12-03T10:56:17.276507Z",
     "start_time": "2020-12-03T10:56:17.247511Z"
    }
   },
   "outputs": [],
   "source": [
    "# 获取当前数据的历史点击和最后一次点击\n",
    "def get_hist_and_last_click(all_click):\n",
    "    all_click = all_click.sort_values(by=['user_id', 'click_timestamp'])\n",
    "    click_last_df = all_click.groupby('user_id').tail(1)\n",
    "\n",
    "    # 如果用户只有一个点击，hist为空了，会导致训练的时候这个用户不可见，此时默认泄露一下\n",
    "    def hist_func(user_df):\n",
    "        if len(user_df) == 1:\n",
    "            return user_df\n",
    "        else:\n",
    "            return user_df[:-1]\n",
    "\n",
    "    click_hist_df = all_click.groupby('user_id').apply(hist_func).reset_index(drop=True)\n",
    "\n",
    "    return click_hist_df, click_last_df"
   ]
  },
  {
   "cell_type": "code",
   "execution_count": 7,
   "metadata": {
    "ExecuteTime": {
     "end_time": "2020-12-03T10:56:24.421397Z",
     "start_time": "2020-12-03T10:56:24.397401Z"
    }
   },
   "outputs": [],
   "source": [
    "def get_trn_val_tst_data(data_path, offline=True):\n",
    "    if offline:\n",
    "        click_trn_data = pd.read_csv(data_path+'train_click_log.csv')  # 训练集用户点击日志\n",
    "        click_trn_data = reduce_mem(click_trn_data)\n",
    "        click_trn, click_val, val_ans = trn_val_split(click_trn_data , sample_user_nums)\n",
    "    else:\n",
    "        click_trn = pd.read_csv(data_path+'train_click_log.csv')\n",
    "        click_trn = reduce_mem(click_trn)\n",
    "        click_val = None\n",
    "        val_ans = None\n",
    "    \n",
    "    click_tst = pd.read_csv(data_path+'testA_click_log.csv')\n",
    "    \n",
    "    return click_trn, click_val, click_tst, val_ans"
   ]
  },
  {
   "cell_type": "code",
   "execution_count": 8,
   "metadata": {
    "ExecuteTime": {
     "end_time": "2020-12-03T11:15:05.931322Z",
     "start_time": "2020-12-03T11:15:05.919324Z"
    }
   },
   "outputs": [],
   "source": [
    "## 在task3中由于embeding的相似度，这一个Task也无法进行"
   ]
  },
  {
   "cell_type": "code",
   "execution_count": 9,
   "metadata": {
    "ExecuteTime": {
     "end_time": "2020-12-03T11:16:49.665872Z",
     "start_time": "2020-12-03T11:16:49.656876Z"
    }
   },
   "outputs": [],
   "source": [
    "# 跑一个基础的协同过滤算法"
   ]
  },
  {
   "cell_type": "code",
   "execution_count": 10,
   "metadata": {
    "ExecuteTime": {
     "end_time": "2020-12-03T11:16:57.922591Z",
     "start_time": "2020-12-03T11:16:57.899592Z"
    }
   },
   "outputs": [],
   "source": [
    "users = [\"User1\", \"User2\", \"User3\", \"User4\", \"User5\"]\n",
    "items = [\"Item A\", \"Item B\", \"Item C\", \"Item D\", \"Item E\"]\n",
    "# 构建数据集\n",
    "datasets = [\n",
    "    [\"buy\",None,\"buy\",\"buy\",None],\n",
    "    [\"buy\",None,None,\"buy\",\"buy\"],\n",
    "    [\"buy\",None,\"buy\",None,None],\n",
    "    [None,\"buy\",None,\"buy\",\"buy\"],\n",
    "    [\"buy\",\"buy\",\"buy\",None,\"buy\"],\n",
    "]"
   ]
  },
  {
   "cell_type": "code",
   "execution_count": 11,
   "metadata": {
    "ExecuteTime": {
     "end_time": "2020-12-03T11:17:14.538003Z",
     "start_time": "2020-12-03T11:17:14.478009Z"
    }
   },
   "outputs": [
    {
     "name": "stdout",
     "output_type": "stream",
     "text": [
      "       Item A  Item B  Item C  Item D  Item E\n",
      "User1       1       0       1       1       0\n",
      "User2       1       0       0       1       1\n",
      "User3       1       0       1       0       0\n",
      "User4       0       1       0       1       1\n",
      "User5       1       1       1       0       1\n"
     ]
    }
   ],
   "source": [
    "users = [\"User1\", \"User2\", \"User3\", \"User4\", \"User5\"]\n",
    "items = [\"Item A\", \"Item B\", \"Item C\", \"Item D\", \"Item E\"]\n",
    "# 用户购买记录数据集\n",
    "datasets = [\n",
    "    [1,0,1,1,0],\n",
    "    [1,0,0,1,1],\n",
    "    [1,0,1,0,0],\n",
    "    [0,1,0,1,1],\n",
    "    [1,1,1,0,1],\n",
    "]\n",
    "import pandas as pd\n",
    "\n",
    "df = pd.DataFrame(datasets,\n",
    "                  columns=items,\n",
    "                  index=users)\n",
    "print(df)"
   ]
  },
  {
   "cell_type": "code",
   "execution_count": 18,
   "metadata": {
    "ExecuteTime": {
     "end_time": "2020-12-03T11:27:00.758482Z",
     "start_time": "2020-12-03T11:27:00.637500Z"
    }
   },
   "outputs": [
    {
     "name": "stdout",
     "output_type": "stream",
     "text": [
      "0.2\n",
      "用户之间的两两相似度：\n",
      "          User1  User2     User3  User4  User5\n",
      "User1  1.000000   0.50  0.666667    0.2    0.4\n",
      "User2  0.500000   1.00  0.250000    0.5    0.4\n",
      "User3  0.666667   0.25  1.000000    0.0    0.5\n",
      "User4  0.200000   0.50  0.000000    1.0    0.4\n",
      "User5  0.400000   0.40  0.500000    0.4    1.0\n",
      "物品之间的两两相似度：\n",
      "        Item A    Item B  Item C  Item D    Item E\n",
      "Item A    1.00  0.200000    0.75    0.40  0.400000\n",
      "Item B    0.20  1.000000    0.25    0.25  0.666667\n",
      "Item C    0.75  0.250000    1.00    0.20  0.200000\n",
      "Item D    0.40  0.250000    0.20    1.00  0.500000\n",
      "Item E    0.40  0.666667    0.20    0.50  1.000000\n"
     ]
    }
   ],
   "source": [
    "# 直接计算某两项的杰卡德相似系数\n",
    "from sklearn.metrics import jaccard_score\n",
    "# 计算Item A 和Item B的相似度\n",
    "print(jaccard_score(df[\"Item A\"], df[\"Item B\"]))\n",
    "\n",
    "\n",
    "# 计算所有的数据两两的杰卡德相似系数\n",
    "from sklearn.metrics.pairwise import pairwise_distances\n",
    "# 计算用户间相似度\n",
    "user_similar = 1 - pairwise_distances(df.values, metric=\"jaccard\")\n",
    "user_similar = pd.DataFrame(user_similar, columns=users, index=users)\n",
    "print(\"用户之间的两两相似度：\")\n",
    "print(user_similar)\n",
    "\n",
    "# 计算物品间相似度\n",
    "item_similar = 1 - pairwise_distances(df.T.values, metric=\"jaccard\")\n",
    "item_similar = pd.DataFrame(item_similar, columns=items, index=items)\n",
    "print(\"物品之间的两两相似度：\")\n",
    "print(item_similar)"
   ]
  },
  {
   "cell_type": "code",
   "execution_count": 23,
   "metadata": {
    "ExecuteTime": {
     "end_time": "2020-12-03T11:29:16.790657Z",
     "start_time": "2020-12-03T11:29:16.476705Z"
    }
   },
   "outputs": [
    {
     "name": "stdout",
     "output_type": "stream",
     "text": [
      "用户之间的两两相似度：\n",
      "          User1  User2     User3  User4  User5\n",
      "User1  1.000000   0.50  0.666667    0.2    0.4\n",
      "User2  0.500000   1.00  0.250000    0.5    0.4\n",
      "User3  0.666667   0.25  1.000000    0.0    0.5\n",
      "User4  0.200000   0.50  0.000000    1.0    0.4\n",
      "User5  0.400000   0.40  0.500000    0.4    1.0\n",
      "Top2相似用户：\n",
      "{'User1': ['User3', 'User2'],\n",
      " 'User2': ['User4', 'User1'],\n",
      " 'User3': ['User1', 'User5'],\n",
      " 'User4': ['User2', 'User5'],\n",
      " 'User5': ['User3', 'User4']}\n",
      "最终推荐结果：\n",
      "{'User1': {'Item E'},\n",
      " 'User2': {'Item C', 'Item B'},\n",
      " 'User3': {'Item E', 'Item D', 'Item B'},\n",
      " 'User4': {'Item C', 'Item A'},\n",
      " 'User5': {'Item D'}}\n"
     ]
    }
   ],
   "source": [
    "# User-Based CF\n",
    "import pandas as pd\n",
    "import numpy as np\n",
    "from pprint import pprint\n",
    "\n",
    "users = [\"User1\", \"User2\", \"User3\", \"User4\", \"User5\"]\n",
    "items = [\"Item A\", \"Item B\", \"Item C\", \"Item D\", \"Item E\"]\n",
    "# 用户购买记录数据集\n",
    "datasets = [\n",
    "    [1,0,1,1,0],\n",
    "    [1,0,0,1,1],\n",
    "    [1,0,1,0,0],\n",
    "    [0,1,0,1,1],\n",
    "    [1,1,1,0,1],\n",
    "]\n",
    "\n",
    "df = pd.DataFrame(datasets,\n",
    "                  columns=items,\n",
    "                  index=users)\n",
    "\n",
    "# 计算所有的数据两两的杰卡德相似系数\n",
    "from sklearn.metrics.pairwise import pairwise_distances\n",
    "# 计算用户间相似度\n",
    "user_similar = 1 - pairwise_distances(df.values, metric=\"jaccard\")\n",
    "user_similar = pd.DataFrame(user_similar, columns=users, index=users)\n",
    "print(\"用户之间的两两相似度：\")\n",
    "print(user_similar)\n",
    "\n",
    "topN_users = {}\n",
    "# 遍历每一行数据\n",
    "for i in user_similar.index:\n",
    "    # 取出每一列数据，并删除自身，然后排序数据\n",
    "    _df = user_similar.loc[i].drop([i])\n",
    "    _df_sorted = _df.sort_values(ascending=False)\n",
    "\n",
    "    top2 = list(_df_sorted.index[:2])\n",
    "    topN_users[i] = top2\n",
    "\n",
    "print(\"Top2相似用户：\")\n",
    "pprint(topN_users)\n",
    "\n",
    "rs_results = {}\n",
    "# 构建推荐结果\n",
    "for user, sim_users in topN_users.items():\n",
    "    rs_result = set()    # 存储推荐结果\n",
    "    for sim_user in sim_users:\n",
    "        # 构建初始的推荐结果\n",
    "        rs_result = rs_result.union(set(df.loc[sim_user].replace(0,np.nan).dropna().index))\n",
    "    # 过滤掉已经购买过的物品\n",
    "    rs_result -= set(df.loc[user].replace(0,np.nan).dropna().index)\n",
    "    rs_results[user] = rs_result\n",
    "print(\"最终推荐结果：\")\n",
    "pprint(rs_results)"
   ]
  },
  {
   "cell_type": "code",
   "execution_count": 26,
   "metadata": {
    "ExecuteTime": {
     "end_time": "2020-12-03T13:18:13.545014Z",
     "start_time": "2020-12-03T13:18:13.304084Z"
    }
   },
   "outputs": [
    {
     "name": "stdout",
     "output_type": "stream",
     "text": [
      "物品之间的两两相似度：\n",
      "        Item A    Item B  Item C  Item D    Item E\n",
      "Item A    1.00  0.200000    0.75    0.40  0.400000\n",
      "Item B    0.20  1.000000    0.25    0.25  0.666667\n",
      "Item C    0.75  0.250000    1.00    0.20  0.200000\n",
      "Item D    0.40  0.250000    0.20    1.00  0.500000\n",
      "Item E    0.40  0.666667    0.20    0.50  1.000000\n",
      "Top2相似物品：\n",
      "{'Item A': ['Item C', 'Item E'],\n",
      " 'Item B': ['Item E', 'Item D'],\n",
      " 'Item C': ['Item A', 'Item B'],\n",
      " 'Item D': ['Item E', 'Item A'],\n",
      " 'Item E': ['Item B', 'Item D']}\n",
      "最终推荐结果：\n",
      "{'User1': {'Item B', 'Item E'},\n",
      " 'User2': {'Item B', 'Item C'},\n",
      " 'User3': {'Item B', 'Item E'},\n",
      " 'User4': {'Item A'},\n",
      " 'User5': {'Item D'}}\n"
     ]
    }
   ],
   "source": [
    "# Item-Based CF\n",
    "import pandas as pd\n",
    "import numpy as np\n",
    "from pprint import pprint\n",
    "\n",
    "users = [\"User1\", \"User2\", \"User3\", \"User4\", \"User5\"]\n",
    "items = [\"Item A\", \"Item B\", \"Item C\", \"Item D\", \"Item E\"]\n",
    "# 用户购买记录数据集\n",
    "datasets = [\n",
    "    [1,0,1,1,0],\n",
    "    [1,0,0,1,1],\n",
    "    [1,0,1,0,0],\n",
    "    [0,1,0,1,1],\n",
    "    [1,1,1,0,1],\n",
    "]\n",
    "\n",
    "df = pd.DataFrame(datasets,\n",
    "                  columns=items,\n",
    "                  index=users)\n",
    "\n",
    "# 计算所有的数据两两的杰卡德相似系数\n",
    "from sklearn.metrics.pairwise import pairwise_distances\n",
    "# 计算物品间相似度\n",
    "item_similar = 1 - pairwise_distances(df.T.values, metric=\"jaccard\")\n",
    "item_similar = pd.DataFrame(item_similar, columns=items, index=items)\n",
    "print(\"物品之间的两两相似度：\")\n",
    "print(item_similar)\n",
    "\n",
    "topN_items = {}\n",
    "# 遍历每一行数据\n",
    "for i in item_similar.index:\n",
    "    # 取出每一列数据，并删除自身，然后排序数据\n",
    "    _df = item_similar.loc[i].drop([i])\n",
    "    _df_sorted = _df.sort_values(ascending=False)\n",
    "\n",
    "    top2 = list(_df_sorted.index[:2])\n",
    "    topN_items[i] = top2\n",
    "\n",
    "print(\"Top2相似物品：\")\n",
    "pprint(topN_items)\n",
    "\n",
    "rs_results = {}\n",
    "# 构建推荐结果\n",
    "for user in df.index:    # 遍历所有用户\n",
    "    rs_result = set()\n",
    "    for item in df.loc[user].replace(0,np.nan).dropna().index:   # 取出每个用户当前已购物品列表\n",
    "        # 根据每个物品找出最相似的TOP-N物品，构建初始推荐结果\n",
    "        rs_result = rs_result.union(topN_items[item])\n",
    "    # 过滤掉用户已购的物品\n",
    "    rs_result -= set(df.loc[user].replace(0,np.nan).dropna().index)\n",
    "    # 添加到结果中\n",
    "    rs_results[user] = rs_result\n",
    "\n",
    "print(\"最终推荐结果：\")\n",
    "pprint(rs_results)"
   ]
  },
  {
   "cell_type": "code",
   "execution_count": 28,
   "metadata": {
    "ExecuteTime": {
     "end_time": "2020-12-03T13:19:43.875673Z",
     "start_time": "2020-12-03T13:19:43.743693Z"
    }
   },
   "outputs": [
    {
     "name": "stdout",
     "output_type": "stream",
     "text": [
      "用户之间的两两相似度：\n",
      "        User1   User2   User3   User4   User5\n",
      "User1  1.0000  0.8528  0.7071  0.0000 -0.7921\n",
      "User2  0.8528  1.0000  0.4677  0.4900 -0.9001\n",
      "User3  0.7071  0.4677  1.0000 -0.1612 -0.4666\n",
      "User4  0.0000  0.4900 -0.1612  1.0000 -0.6415\n",
      "User5 -0.7921 -0.9001 -0.4666 -0.6415  1.0000\n",
      "物品之间的两两相似度：\n",
      "        Item A  Item B  Item C  Item D  Item E\n",
      "Item A  1.0000 -0.4767 -0.1231  0.5322  0.9695\n",
      "Item B -0.4767  1.0000  0.6455 -0.3101 -0.4781\n",
      "Item C -0.1231  0.6455  1.0000 -0.7206 -0.4276\n",
      "Item D  0.5322 -0.3101 -0.7206  1.0000  0.5817\n",
      "Item E  0.9695 -0.4781 -0.4276  0.5817  1.0000\n"
     ]
    }
   ],
   "source": [
    "users = [\"User1\", \"User2\", \"User3\", \"User4\", \"User5\"]\n",
    "items = [\"Item A\", \"Item B\", \"Item C\", \"Item D\", \"Item E\"]\n",
    "# 用户购买记录数据集\n",
    "datasets = [\n",
    "    [5,3,4,4,None],\n",
    "    [3,1,2,3,3],\n",
    "    [4,3,4,3,5],\n",
    "    [3,3,1,5,4],\n",
    "    [1,5,5,2,1],\n",
    "]\n",
    "\n",
    "df = pd.DataFrame(datasets,\n",
    "                  columns=items,\n",
    "                  index=users)\n",
    "\n",
    "print(\"用户之间的两两相似度：\")\n",
    "# 直接计算皮尔逊相关系数\n",
    "# 默认是按列进行计算，因此如果计算用户间的相似度，当前需要进行转置\n",
    "user_similar = df.T.corr()\n",
    "print(user_similar.round(4))\n",
    "\n",
    "print(\"物品之间的两两相似度：\")\n",
    "item_similar = df.corr()\n",
    "print(item_similar.round(4))"
   ]
  }
 ],
 "metadata": {
  "hide_input": false,
  "kernelspec": {
   "display_name": "Python 3",
   "language": "python",
   "name": "python3"
  },
  "language_info": {
   "codemirror_mode": {
    "name": "ipython",
    "version": 3
   },
   "file_extension": ".py",
   "mimetype": "text/x-python",
   "name": "python",
   "nbconvert_exporter": "python",
   "pygments_lexer": "ipython3",
   "version": "3.8.3"
  },
  "varInspector": {
   "cols": {
    "lenName": 16,
    "lenType": 16,
    "lenVar": 40
   },
   "kernels_config": {
    "python": {
     "delete_cmd_postfix": "",
     "delete_cmd_prefix": "del ",
     "library": "var_list.py",
     "varRefreshCmd": "print(var_dic_list())"
    },
    "r": {
     "delete_cmd_postfix": ") ",
     "delete_cmd_prefix": "rm(",
     "library": "var_list.r",
     "varRefreshCmd": "cat(var_dic_list()) "
    }
   },
   "types_to_exclude": [
    "module",
    "function",
    "builtin_function_or_method",
    "instance",
    "_Feature"
   ],
   "window_display": false
  }
 },
 "nbformat": 4,
 "nbformat_minor": 4
}
